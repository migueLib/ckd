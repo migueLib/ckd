{
 "cells": [
  {
   "cell_type": "code",
   "execution_count": 2,
   "metadata": {
    "tags": []
   },
   "outputs": [],
   "source": [
    "# Import built-in libraries\n",
    "import os\n",
    "from os.path import abspath\n",
    "\n",
    "# Import external libraries\n",
    "import numpy as np\n",
    "import pandas as pd\n",
    "from sklearn.pipeline import Pipeline\n",
    "from sklearn.model_selection import train_test_split\n",
    "from sktime.transformations.panel.compose import ColumnConcatenator\n",
    "from sktime.classification.interval_based import TimeSeriesForestClassifier\n",
    "from sktime.datatypes._panel._convert import from_long_to_nested, from_nested_to_long"
   ]
  },
  {
   "cell_type": "code",
   "execution_count": 3,
   "metadata": {},
   "outputs": [],
   "source": [
    "# Load all data\n",
    "demo = pd.read_csv(abspath(\"../data/T_demo.csv\"))\n",
    "stage = pd.read_csv(abspath(\"../data/T_stage.csv\"))\n",
    "\n",
    "# Biomarkers\n",
    "cre = pd.read_csv(abspath(\"../data/T_creatinine.csv\"))\n",
    "dbp = pd.read_csv(abspath(\"../data/T_DBP.csv\"))\n",
    "sbp = pd.read_csv(abspath(\"../data/T_SBP.csv\"))\n",
    "hgb = pd.read_csv(abspath(\"../data/T_HGB.csv\"))\n",
    "glu = pd.read_csv(abspath(\"../data/T_glucose.csv\"))\n",
    "ldl = pd.read_csv(abspath(\"../data/T_ldl.csv\"))\n",
    "\n",
    "# Medication\n",
    "meds = pd.read_csv(abspath(\"../data/T_meds.csv\"))"
   ]
  },
  {
   "cell_type": "code",
   "execution_count": 4,
   "metadata": {},
   "outputs": [],
   "source": [
    "# Convert biomarker tables to sktime objects\n",
    "# Please reffer to https://www.sktime.org/en/latest/examples/loading_data.html#Using-long-format-data-with-sktime\n",
    "cre = cre.rename(columns={\"id\":\"case_id\",\"time\":\"reading_id\"})\n",
    "cre[\"dim_id\"] = 0\n",
    "dbp = dbp.rename(columns={\"id\":\"case_id\",\"time\":\"reading_id\"})\n",
    "dbp[\"dim_id\"] = 1\n",
    "sbp = sbp.rename(columns={\"id\":\"case_id\",\"time\":\"reading_id\"})\n",
    "sbp[\"dim_id\"] = 2\n",
    "hgb = hgb.rename(columns={\"id\":\"case_id\",\"time\":\"reading_id\"})\n",
    "hgb[\"dim_id\"] = 3\n",
    "glu = glu.rename(columns={\"id\":\"case_id\",\"time\":\"reading_id\"})\n",
    "glu[\"dim_id\"] = 4\n",
    "ldl = ldl.rename(columns={\"id\":\"case_id\",\"time\":\"reading_id\"})\n",
    "ldl[\"dim_id\"] = 5\n",
    "\n",
    "# Concatenate all the biomarkers together on a single dataframe\n",
    "biomarkers = pd.concat([cre, dbp, sbp, hgb, glu, ldl])"
   ]
  },
  {
   "cell_type": "code",
   "execution_count": 5,
   "metadata": {},
   "outputs": [
    {
     "data": {
      "text/plain": "                                               var_0\n0  0      1.29\n107    1.15\n286    1.44\n382    1.2...\n1  0      1.74\n68     1.83\n289    1.81\n387    1.6...\n2  0      2.51\n184    1.89\n430    2.25\n502    2.0...\n3  0      0.74\n185    1.35\n370    1.10\n563    0.8...\n4  0      1.34\n133    1.09\n312    1.14\n439    1.3...",
      "text/html": "<div>\n<style scoped>\n    .dataframe tbody tr th:only-of-type {\n        vertical-align: middle;\n    }\n\n    .dataframe tbody tr th {\n        vertical-align: top;\n    }\n\n    .dataframe thead th {\n        text-align: right;\n    }\n</style>\n<table border=\"1\" class=\"dataframe\">\n  <thead>\n    <tr style=\"text-align: right;\">\n      <th></th>\n      <th>var_0</th>\n    </tr>\n  </thead>\n  <tbody>\n    <tr>\n      <th>0</th>\n      <td>0      1.29\n107    1.15\n286    1.44\n382    1.2...</td>\n    </tr>\n    <tr>\n      <th>1</th>\n      <td>0      1.74\n68     1.83\n289    1.81\n387    1.6...</td>\n    </tr>\n    <tr>\n      <th>2</th>\n      <td>0      2.51\n184    1.89\n430    2.25\n502    2.0...</td>\n    </tr>\n    <tr>\n      <th>3</th>\n      <td>0      0.74\n185    1.35\n370    1.10\n563    0.8...</td>\n    </tr>\n    <tr>\n      <th>4</th>\n      <td>0      1.34\n133    1.09\n312    1.14\n439    1.3...</td>\n    </tr>\n  </tbody>\n</table>\n</div>"
     },
     "execution_count": 5,
     "metadata": {},
     "output_type": "execute_result"
    }
   ],
   "source": [
    "sktime_biomarkers = from_long_to_nested(cre)\n",
    "sktime_biomarkers.head()"
   ]
  },
  {
   "cell_type": "code",
   "execution_count": 6,
   "metadata": {},
   "outputs": [
    {
     "name": "stdout",
     "output_type": "stream",
     "text": [
      "(270, 1) (270,) (30, 1) (30,)\n"
     ]
    }
   ],
   "source": [
    "X_train, X_test, y_train, y_test = train_test_split(sktime_biomarkers, stage.Stage_Progress, random_state=42, test_size=30)\n",
    "print(X_train.shape, y_train.shape, X_test.shape, y_test.shape)"
   ]
  },
  {
   "cell_type": "code",
   "execution_count": 8,
   "metadata": {},
   "outputs": [
    {
     "ename": "ValueError",
     "evalue": "all input arrays must have the same shape",
     "output_type": "error",
     "traceback": [
      "\u001B[1;31m---------------------------------------------------------------------------\u001B[0m",
      "\u001B[1;31mValueError\u001B[0m                                Traceback (most recent call last)",
      "\u001B[1;32m<ipython-input-8-899d84675a34>\u001B[0m in \u001B[0;36m<module>\u001B[1;34m\u001B[0m\n\u001B[0;32m      1\u001B[0m \u001B[0mmodel\u001B[0m \u001B[1;33m=\u001B[0m \u001B[0mTimeSeriesForestClassifier\u001B[0m\u001B[1;33m(\u001B[0m\u001B[1;33m)\u001B[0m\u001B[1;33m\u001B[0m\u001B[1;33m\u001B[0m\u001B[0m\n\u001B[1;32m----> 2\u001B[1;33m \u001B[0mmodel\u001B[0m\u001B[1;33m.\u001B[0m\u001B[0mfit\u001B[0m\u001B[1;33m(\u001B[0m\u001B[0mX_train\u001B[0m\u001B[1;33m,\u001B[0m \u001B[0my_train\u001B[0m\u001B[1;33m)\u001B[0m\u001B[1;33m\u001B[0m\u001B[1;33m\u001B[0m\u001B[0m\n\u001B[0m",
      "\u001B[1;32m~\\anaconda3\\envs\\stable\\lib\\site-packages\\sktime\\series_as_features\\base\\estimators\\interval_based\\_tsf.py\u001B[0m in \u001B[0;36mfit\u001B[1;34m(self, X, y)\u001B[0m\n\u001B[0;32m     89\u001B[0m             \u001B[0my\u001B[0m\u001B[1;33m,\u001B[0m\u001B[1;33m\u001B[0m\u001B[1;33m\u001B[0m\u001B[0m\n\u001B[0;32m     90\u001B[0m             \u001B[0menforce_univariate\u001B[0m\u001B[1;33m=\u001B[0m\u001B[1;32mnot\u001B[0m \u001B[0mself\u001B[0m\u001B[1;33m.\u001B[0m\u001B[0mcapabilities\u001B[0m\u001B[1;33m[\u001B[0m\u001B[1;34m\"multivariate\"\u001B[0m\u001B[1;33m]\u001B[0m\u001B[1;33m,\u001B[0m\u001B[1;33m\u001B[0m\u001B[1;33m\u001B[0m\u001B[0m\n\u001B[1;32m---> 91\u001B[1;33m             \u001B[0mcoerce_to_numpy\u001B[0m\u001B[1;33m=\u001B[0m\u001B[1;32mTrue\u001B[0m\u001B[1;33m,\u001B[0m\u001B[1;33m\u001B[0m\u001B[1;33m\u001B[0m\u001B[0m\n\u001B[0m\u001B[0;32m     92\u001B[0m         )\n\u001B[0;32m     93\u001B[0m         \u001B[0mX\u001B[0m \u001B[1;33m=\u001B[0m \u001B[0mX\u001B[0m\u001B[1;33m.\u001B[0m\u001B[0msqueeze\u001B[0m\u001B[1;33m(\u001B[0m\u001B[1;36m1\u001B[0m\u001B[1;33m)\u001B[0m\u001B[1;33m\u001B[0m\u001B[1;33m\u001B[0m\u001B[0m\n",
      "\u001B[1;32m~\\anaconda3\\envs\\stable\\lib\\site-packages\\sktime\\utils\\validation\\panel.py\u001B[0m in \u001B[0;36mcheck_X_y\u001B[1;34m(X, y, enforce_univariate, enforce_min_instances, enforce_min_columns, coerce_to_numpy, coerce_to_pandas)\u001B[0m\n\u001B[0;32m    192\u001B[0m         \u001B[0menforce_min_instances\u001B[0m\u001B[1;33m=\u001B[0m\u001B[0menforce_min_instances\u001B[0m\u001B[1;33m,\u001B[0m\u001B[1;33m\u001B[0m\u001B[1;33m\u001B[0m\u001B[0m\n\u001B[0;32m    193\u001B[0m         \u001B[0mcoerce_to_numpy\u001B[0m\u001B[1;33m=\u001B[0m\u001B[0mcoerce_to_numpy\u001B[0m\u001B[1;33m,\u001B[0m\u001B[1;33m\u001B[0m\u001B[1;33m\u001B[0m\u001B[0m\n\u001B[1;32m--> 194\u001B[1;33m         \u001B[0mcoerce_to_pandas\u001B[0m\u001B[1;33m=\u001B[0m\u001B[0mcoerce_to_pandas\u001B[0m\u001B[1;33m,\u001B[0m\u001B[1;33m\u001B[0m\u001B[1;33m\u001B[0m\u001B[0m\n\u001B[0m\u001B[0;32m    195\u001B[0m     )\n\u001B[0;32m    196\u001B[0m     \u001B[1;32mreturn\u001B[0m \u001B[0mX\u001B[0m\u001B[1;33m,\u001B[0m \u001B[0my\u001B[0m\u001B[1;33m\u001B[0m\u001B[1;33m\u001B[0m\u001B[0m\n",
      "\u001B[1;32m~\\anaconda3\\envs\\stable\\lib\\site-packages\\sktime\\utils\\validation\\panel.py\u001B[0m in \u001B[0;36mcheck_X\u001B[1;34m(X, enforce_univariate, enforce_min_instances, enforce_min_columns, coerce_to_numpy, coerce_to_pandas)\u001B[0m\n\u001B[0;32m    107\u001B[0m         \u001B[1;31m# convert pd.DataFrame\u001B[0m\u001B[1;33m\u001B[0m\u001B[1;33m\u001B[0m\u001B[1;33m\u001B[0m\u001B[0m\n\u001B[0;32m    108\u001B[0m         \u001B[1;32mif\u001B[0m \u001B[0mcoerce_to_numpy\u001B[0m\u001B[1;33m:\u001B[0m\u001B[1;33m\u001B[0m\u001B[1;33m\u001B[0m\u001B[0m\n\u001B[1;32m--> 109\u001B[1;33m             \u001B[0mX\u001B[0m \u001B[1;33m=\u001B[0m \u001B[0mfrom_nested_to_3d_numpy\u001B[0m\u001B[1;33m(\u001B[0m\u001B[0mX\u001B[0m\u001B[1;33m)\u001B[0m\u001B[1;33m\u001B[0m\u001B[1;33m\u001B[0m\u001B[0m\n\u001B[0m\u001B[0;32m    110\u001B[0m \u001B[1;33m\u001B[0m\u001B[0m\n\u001B[0;32m    111\u001B[0m     \u001B[1;32mreturn\u001B[0m \u001B[0mX\u001B[0m\u001B[1;33m\u001B[0m\u001B[1;33m\u001B[0m\u001B[0m\n",
      "\u001B[1;32m~\\anaconda3\\envs\\stable\\lib\\site-packages\\sktime\\datatypes\\_panel\\_convert.py\u001B[0m in \u001B[0;36mfrom_nested_to_3d_numpy\u001B[1;34m(X)\u001B[0m\n\u001B[0;32m    914\u001B[0m         X_3d = np.stack(\n\u001B[0;32m    915\u001B[0m             \u001B[0mX\u001B[0m\u001B[1;33m.\u001B[0m\u001B[0mapplymap\u001B[0m\u001B[1;33m(\u001B[0m\u001B[0m_convert_series_cell_to_numpy\u001B[0m\u001B[1;33m)\u001B[0m\u001B[1;33m\u001B[0m\u001B[1;33m\u001B[0m\u001B[0m\n\u001B[1;32m--> 916\u001B[1;33m             \u001B[1;33m.\u001B[0m\u001B[0mapply\u001B[0m\u001B[1;33m(\u001B[0m\u001B[1;32mlambda\u001B[0m \u001B[0mrow\u001B[0m\u001B[1;33m:\u001B[0m \u001B[0mnp\u001B[0m\u001B[1;33m.\u001B[0m\u001B[0mstack\u001B[0m\u001B[1;33m(\u001B[0m\u001B[0mrow\u001B[0m\u001B[1;33m)\u001B[0m\u001B[1;33m,\u001B[0m \u001B[0maxis\u001B[0m\u001B[1;33m=\u001B[0m\u001B[1;36m1\u001B[0m\u001B[1;33m)\u001B[0m\u001B[1;33m\u001B[0m\u001B[1;33m\u001B[0m\u001B[0m\n\u001B[0m\u001B[0;32m    917\u001B[0m             \u001B[1;33m.\u001B[0m\u001B[0mto_numpy\u001B[0m\u001B[1;33m(\u001B[0m\u001B[1;33m)\u001B[0m\u001B[1;33m\u001B[0m\u001B[1;33m\u001B[0m\u001B[0m\n\u001B[0;32m    918\u001B[0m         )\n",
      "\u001B[1;32m<__array_function__ internals>\u001B[0m in \u001B[0;36mstack\u001B[1;34m(*args, **kwargs)\u001B[0m\n",
      "\u001B[1;32m~\\anaconda3\\envs\\stable\\lib\\site-packages\\numpy\\core\\shape_base.py\u001B[0m in \u001B[0;36mstack\u001B[1;34m(arrays, axis, out)\u001B[0m\n\u001B[0;32m    425\u001B[0m     \u001B[0mshapes\u001B[0m \u001B[1;33m=\u001B[0m \u001B[1;33m{\u001B[0m\u001B[0marr\u001B[0m\u001B[1;33m.\u001B[0m\u001B[0mshape\u001B[0m \u001B[1;32mfor\u001B[0m \u001B[0marr\u001B[0m \u001B[1;32min\u001B[0m \u001B[0marrays\u001B[0m\u001B[1;33m}\u001B[0m\u001B[1;33m\u001B[0m\u001B[1;33m\u001B[0m\u001B[0m\n\u001B[0;32m    426\u001B[0m     \u001B[1;32mif\u001B[0m \u001B[0mlen\u001B[0m\u001B[1;33m(\u001B[0m\u001B[0mshapes\u001B[0m\u001B[1;33m)\u001B[0m \u001B[1;33m!=\u001B[0m \u001B[1;36m1\u001B[0m\u001B[1;33m:\u001B[0m\u001B[1;33m\u001B[0m\u001B[1;33m\u001B[0m\u001B[0m\n\u001B[1;32m--> 427\u001B[1;33m         \u001B[1;32mraise\u001B[0m \u001B[0mValueError\u001B[0m\u001B[1;33m(\u001B[0m\u001B[1;34m'all input arrays must have the same shape'\u001B[0m\u001B[1;33m)\u001B[0m\u001B[1;33m\u001B[0m\u001B[1;33m\u001B[0m\u001B[0m\n\u001B[0m\u001B[0;32m    428\u001B[0m \u001B[1;33m\u001B[0m\u001B[0m\n\u001B[0;32m    429\u001B[0m     \u001B[0mresult_ndim\u001B[0m \u001B[1;33m=\u001B[0m \u001B[0marrays\u001B[0m\u001B[1;33m[\u001B[0m\u001B[1;36m0\u001B[0m\u001B[1;33m]\u001B[0m\u001B[1;33m.\u001B[0m\u001B[0mndim\u001B[0m \u001B[1;33m+\u001B[0m \u001B[1;36m1\u001B[0m\u001B[1;33m\u001B[0m\u001B[1;33m\u001B[0m\u001B[0m\n",
      "\u001B[1;31mValueError\u001B[0m: all input arrays must have the same shape"
     ]
    }
   ],
   "source": [
    "model = TimeSeriesForestClassifier()\n",
    "model.fit(X_train, y_train)"
   ]
  },
  {
   "cell_type": "code",
   "execution_count": null,
   "outputs": [],
   "source": [],
   "metadata": {
    "collapsed": false,
    "pycharm": {
     "name": "#%%\n"
    }
   }
  }
 ],
 "metadata": {
  "kernelspec": {
   "display_name": "Python 3 (ipykernel)",
   "language": "python",
   "name": "python3"
  },
  "language_info": {
   "codemirror_mode": {
    "name": "ipython",
    "version": 3
   },
   "file_extension": ".py",
   "mimetype": "text/x-python",
   "name": "python",
   "nbconvert_exporter": "python",
   "pygments_lexer": "ipython3",
   "version": "3.8.12"
  }
 },
 "nbformat": 4,
 "nbformat_minor": 4
}