{
 "cells": [
  {
   "cell_type": "code",
   "execution_count": 4,
   "metadata": {
    "collapsed": true
   },
   "outputs": [],
   "source": [
    "# Import built-in libraries\n",
    "import os\n",
    "from os.path import abspath\n",
    "\n",
    "# Import external libraries\n",
    "import sklearn\n",
    "import numpy as np\n",
    "import pandas as pd\n",
    "import matplotlib.pyplot as plt\n",
    "import seaborn as sns\n",
    "from sklearn.model_selection import train_test_split\n",
    "from sklearn.ensemble import RandomForestClassifier\n",
    "from sklearn.metrics import confusion_matrix\n",
    "from sklearn.metrics import accuracy_score\n",
    "from scipy.stats import linregress\n",
    "\n",
    "# Import internal libraries\n",
    "from src.plot_confusion_matrix import plot_confusion_matrix"
   ]
  },
  {
   "cell_type": "code",
   "execution_count": 3,
   "outputs": [],
   "source": [
    "# Load all data\n",
    "demo = pd.read_csv(abspath(\"../data/T_demo.csv\"))\n",
    "stage = pd.read_csv(abspath(\"../data/T_stage.csv\"))\n",
    "\n",
    "# Biomarkers\n",
    "cre = pd.read_csv(abspath(\"../data/T_creatinine.csv\"))\n",
    "dbp = pd.read_csv(abspath(\"../data/T_DBP.csv\"))\n",
    "sbp = pd.read_csv(abspath(\"../data/T_SBP.csv\"))\n",
    "hgb = pd.read_csv(abspath(\"../data/T_HGB.csv\"))\n",
    "glu = pd.read_csv(abspath(\"../data/T_glucose.csv\"))\n",
    "ldl = pd.read_csv(abspath(\"../data/T_ldl.csv\"))\n",
    "\n",
    "# Medication\n",
    "meds = pd.read_csv(abspath(\"../data/T_meds.csv\"))"
   ],
   "metadata": {
    "collapsed": false,
    "pycharm": {
     "name": "#%%\n"
    }
   }
  },
  {
   "cell_type": "code",
   "execution_count": 20,
   "outputs": [
    {
     "data": {
      "text/plain": "      cre    dbp    sbp   hgb   glu    ldl\n0   -0.06 -11.03  13.39 -0.38 -0.46  -3.59\n1    0.46  18.50  -7.80 -1.04 -0.18 -16.33\n2   -0.31  10.39   3.57 -0.15 -0.20  25.52\n3    0.16 -12.64  -4.58 -1.08 -0.66   1.71\n4   -0.41  22.34  37.67 -1.58  2.24   6.30\n..    ...    ...    ...   ...   ...    ...\n295 -0.31  -0.30 -16.35  0.61 -0.64  12.02\n296 -0.47   5.84   3.50  0.19  0.69  -8.61\n297  0.06  13.68  -8.77  0.43  1.28  17.05\n298 -0.06 -16.14  -6.19  1.96 -0.44 -16.98\n299 -0.30  -5.80   9.43 -0.23  0.60  12.57\n\n[300 rows x 6 columns]",
      "text/html": "<div>\n<style scoped>\n    .dataframe tbody tr th:only-of-type {\n        vertical-align: middle;\n    }\n\n    .dataframe tbody tr th {\n        vertical-align: top;\n    }\n\n    .dataframe thead th {\n        text-align: right;\n    }\n</style>\n<table border=\"1\" class=\"dataframe\">\n  <thead>\n    <tr style=\"text-align: right;\">\n      <th></th>\n      <th>cre</th>\n      <th>dbp</th>\n      <th>sbp</th>\n      <th>hgb</th>\n      <th>glu</th>\n      <th>ldl</th>\n    </tr>\n  </thead>\n  <tbody>\n    <tr>\n      <th>0</th>\n      <td>-0.06</td>\n      <td>-11.03</td>\n      <td>13.39</td>\n      <td>-0.38</td>\n      <td>-0.46</td>\n      <td>-3.59</td>\n    </tr>\n    <tr>\n      <th>1</th>\n      <td>0.46</td>\n      <td>18.50</td>\n      <td>-7.80</td>\n      <td>-1.04</td>\n      <td>-0.18</td>\n      <td>-16.33</td>\n    </tr>\n    <tr>\n      <th>2</th>\n      <td>-0.31</td>\n      <td>10.39</td>\n      <td>3.57</td>\n      <td>-0.15</td>\n      <td>-0.20</td>\n      <td>25.52</td>\n    </tr>\n    <tr>\n      <th>3</th>\n      <td>0.16</td>\n      <td>-12.64</td>\n      <td>-4.58</td>\n      <td>-1.08</td>\n      <td>-0.66</td>\n      <td>1.71</td>\n    </tr>\n    <tr>\n      <th>4</th>\n      <td>-0.41</td>\n      <td>22.34</td>\n      <td>37.67</td>\n      <td>-1.58</td>\n      <td>2.24</td>\n      <td>6.30</td>\n    </tr>\n    <tr>\n      <th>...</th>\n      <td>...</td>\n      <td>...</td>\n      <td>...</td>\n      <td>...</td>\n      <td>...</td>\n      <td>...</td>\n    </tr>\n    <tr>\n      <th>295</th>\n      <td>-0.31</td>\n      <td>-0.30</td>\n      <td>-16.35</td>\n      <td>0.61</td>\n      <td>-0.64</td>\n      <td>12.02</td>\n    </tr>\n    <tr>\n      <th>296</th>\n      <td>-0.47</td>\n      <td>5.84</td>\n      <td>3.50</td>\n      <td>0.19</td>\n      <td>0.69</td>\n      <td>-8.61</td>\n    </tr>\n    <tr>\n      <th>297</th>\n      <td>0.06</td>\n      <td>13.68</td>\n      <td>-8.77</td>\n      <td>0.43</td>\n      <td>1.28</td>\n      <td>17.05</td>\n    </tr>\n    <tr>\n      <th>298</th>\n      <td>-0.06</td>\n      <td>-16.14</td>\n      <td>-6.19</td>\n      <td>1.96</td>\n      <td>-0.44</td>\n      <td>-16.98</td>\n    </tr>\n    <tr>\n      <th>299</th>\n      <td>-0.30</td>\n      <td>-5.80</td>\n      <td>9.43</td>\n      <td>-0.23</td>\n      <td>0.60</td>\n      <td>12.57</td>\n    </tr>\n  </tbody>\n</table>\n<p>300 rows × 6 columns</p>\n</div>"
     },
     "execution_count": 20,
     "metadata": {},
     "output_type": "execute_result"
    }
   ],
   "source": [
    "# Group values by patient id\n",
    "# Calculate the difference between the latest and first measurement for all biomarkers\n",
    "cre_s = pd.Series({i:(data.iloc[-1]-data.iloc[0]).value for i, data in cre.groupby(\"id\")}, name=\"cre\")\n",
    "dbp_s = pd.Series({i:(data.iloc[-1]-data.iloc[0]).value for i, data in dbp.groupby(\"id\")}, name=\"dbp\")\n",
    "sbp_s = pd.Series({i:(data.iloc[-1]-data.iloc[0]).value for i, data in sbp.groupby(\"id\")}, name=\"sbp\")\n",
    "hgb_s = pd.Series({i:(data.iloc[-1]-data.iloc[0]).value for i, data in hgb.groupby(\"id\")}, name=\"hgb\")\n",
    "glu_s = pd.Series({i:(data.iloc[-1]-data.iloc[0]).value for i, data in glu.groupby(\"id\")}, name=\"glu\")\n",
    "ldl_s = pd.Series({i:(data.iloc[-1]-data.iloc[0]).value for i, data in ldl.groupby(\"id\")}, name=\"ldl\")\n",
    "\n",
    "\n",
    "# Create a new data frame with the differences\n",
    "biomarkers_diff = pd.concat([cre_s, dbp_s, sbp_s, hgb_s, glu_s, ldl_s], axis=1)\n",
    "biomarkers_diff"
   ],
   "metadata": {
    "collapsed": false,
    "pycharm": {
     "name": "#%%\n"
    }
   }
  },
  {
   "cell_type": "code",
   "execution_count": 19,
   "outputs": [
    {
     "data": {
      "text/plain": "          cre       dbp       sbp       hgb       glu       ldl\n0   -0.000139 -0.006528  0.030778 -0.000087 -0.001550  0.026001\n1    0.000447  0.015015 -0.002471 -0.001088  0.000395 -0.031092\n2   -0.000331  0.014118  0.007067 -0.000721  0.000538  0.049298\n3   -0.000069 -0.008269 -0.011189 -0.000519 -0.001384 -0.008558\n4   -0.000387  0.040116  0.051763 -0.001118  0.001765  0.003691\n..        ...       ...       ...       ...       ...       ...\n295 -0.000386 -0.004818 -0.012507  0.000619 -0.001355  0.005764\n296 -0.000728  0.006951  0.006744  0.000163  0.001433  0.000888\n297 -0.000004  0.027620  0.026806 -0.000042  0.001389  0.007881\n298 -0.000134 -0.039152  0.010510  0.001009 -0.000869 -0.033715\n299 -0.000338  0.023951  0.047959 -0.000063  0.000951  0.017136\n\n[300 rows x 6 columns]",
      "text/html": "<div>\n<style scoped>\n    .dataframe tbody tr th:only-of-type {\n        vertical-align: middle;\n    }\n\n    .dataframe tbody tr th {\n        vertical-align: top;\n    }\n\n    .dataframe thead th {\n        text-align: right;\n    }\n</style>\n<table border=\"1\" class=\"dataframe\">\n  <thead>\n    <tr style=\"text-align: right;\">\n      <th></th>\n      <th>cre</th>\n      <th>dbp</th>\n      <th>sbp</th>\n      <th>hgb</th>\n      <th>glu</th>\n      <th>ldl</th>\n    </tr>\n  </thead>\n  <tbody>\n    <tr>\n      <th>0</th>\n      <td>-0.000139</td>\n      <td>-0.006528</td>\n      <td>0.030778</td>\n      <td>-0.000087</td>\n      <td>-0.001550</td>\n      <td>0.026001</td>\n    </tr>\n    <tr>\n      <th>1</th>\n      <td>0.000447</td>\n      <td>0.015015</td>\n      <td>-0.002471</td>\n      <td>-0.001088</td>\n      <td>0.000395</td>\n      <td>-0.031092</td>\n    </tr>\n    <tr>\n      <th>2</th>\n      <td>-0.000331</td>\n      <td>0.014118</td>\n      <td>0.007067</td>\n      <td>-0.000721</td>\n      <td>0.000538</td>\n      <td>0.049298</td>\n    </tr>\n    <tr>\n      <th>3</th>\n      <td>-0.000069</td>\n      <td>-0.008269</td>\n      <td>-0.011189</td>\n      <td>-0.000519</td>\n      <td>-0.001384</td>\n      <td>-0.008558</td>\n    </tr>\n    <tr>\n      <th>4</th>\n      <td>-0.000387</td>\n      <td>0.040116</td>\n      <td>0.051763</td>\n      <td>-0.001118</td>\n      <td>0.001765</td>\n      <td>0.003691</td>\n    </tr>\n    <tr>\n      <th>...</th>\n      <td>...</td>\n      <td>...</td>\n      <td>...</td>\n      <td>...</td>\n      <td>...</td>\n      <td>...</td>\n    </tr>\n    <tr>\n      <th>295</th>\n      <td>-0.000386</td>\n      <td>-0.004818</td>\n      <td>-0.012507</td>\n      <td>0.000619</td>\n      <td>-0.001355</td>\n      <td>0.005764</td>\n    </tr>\n    <tr>\n      <th>296</th>\n      <td>-0.000728</td>\n      <td>0.006951</td>\n      <td>0.006744</td>\n      <td>0.000163</td>\n      <td>0.001433</td>\n      <td>0.000888</td>\n    </tr>\n    <tr>\n      <th>297</th>\n      <td>-0.000004</td>\n      <td>0.027620</td>\n      <td>0.026806</td>\n      <td>-0.000042</td>\n      <td>0.001389</td>\n      <td>0.007881</td>\n    </tr>\n    <tr>\n      <th>298</th>\n      <td>-0.000134</td>\n      <td>-0.039152</td>\n      <td>0.010510</td>\n      <td>0.001009</td>\n      <td>-0.000869</td>\n      <td>-0.033715</td>\n    </tr>\n    <tr>\n      <th>299</th>\n      <td>-0.000338</td>\n      <td>0.023951</td>\n      <td>0.047959</td>\n      <td>-0.000063</td>\n      <td>0.000951</td>\n      <td>0.017136</td>\n    </tr>\n  </tbody>\n</table>\n<p>300 rows × 6 columns</p>\n</div>"
     },
     "execution_count": 19,
     "metadata": {},
     "output_type": "execute_result"
    }
   ],
   "source": [
    "# Group values by patient id\n",
    "# get a linear regression and calculate the slope for each patient\n",
    "cre_s = pd.Series({i:linregress(data.time, data.value).slope for i, data in cre.groupby(\"id\")}, name=\"cre\")\n",
    "dbp_s = pd.Series({i:linregress(data.time, data.value).slope for i, data in dbp.groupby(\"id\")}, name=\"dbp\")\n",
    "sbp_s = pd.Series({i:linregress(data.time, data.value).slope for i, data in sbp.groupby(\"id\")}, name=\"sbp\")\n",
    "hgb_s = pd.Series({i:linregress(data.time, data.value).slope for i, data in hgb.groupby(\"id\")}, name=\"hgb\")\n",
    "glu_s = pd.Series({i:linregress(data.time, data.value).slope for i, data in glu.groupby(\"id\")}, name=\"glu\")\n",
    "ldl_s = pd.Series({i:linregress(data.time, data.value).slope for i, data in ldl.groupby(\"id\")}, name=\"ldl\")\n",
    "\n",
    "# Create a new data frame with the slopes\n",
    "biomarkers_slop = pd.concat([cre_s, dbp_s, sbp_s, hgb_s, glu_s, ldl_s], axis=1)\n",
    "biomarkers_slop"
   ],
   "metadata": {
    "collapsed": false,
    "pycharm": {
     "name": "#%%\n"
    }
   }
  },
  {
   "cell_type": "code",
   "execution_count": 18,
   "outputs": [
    {
     "data": {
      "text/plain": "          cre        dbp         sbp        hgb       glu         ldl\n0    1.236667  83.173750  139.610000  13.262222  6.456667  143.593333\n1    1.838000  80.455714  150.232857  13.662857  9.240000   82.424000\n2    2.170000  89.217500  140.210000  15.700000  6.466667   75.283333\n3    0.996000  74.857143  139.588571  13.198000  6.525000   98.246000\n4    1.150000  97.385714  160.667143  12.658000  9.720000   65.907500\n..        ...        ...         ...        ...       ...         ...\n295  1.774000  83.420000  139.603750  14.106250  5.877143  118.198000\n296  1.432000  88.365714  131.017143  14.784000  8.354000  102.960000\n297  1.241667  70.895000  125.318750  14.190000  8.275000  130.898333\n298  1.116000  76.475000  125.255000  16.360000  5.867500   78.074000\n299  1.010000  74.970000  114.737143  14.672000  5.980000   72.916667\n\n[300 rows x 6 columns]",
      "text/html": "<div>\n<style scoped>\n    .dataframe tbody tr th:only-of-type {\n        vertical-align: middle;\n    }\n\n    .dataframe tbody tr th {\n        vertical-align: top;\n    }\n\n    .dataframe thead th {\n        text-align: right;\n    }\n</style>\n<table border=\"1\" class=\"dataframe\">\n  <thead>\n    <tr style=\"text-align: right;\">\n      <th></th>\n      <th>cre</th>\n      <th>dbp</th>\n      <th>sbp</th>\n      <th>hgb</th>\n      <th>glu</th>\n      <th>ldl</th>\n    </tr>\n  </thead>\n  <tbody>\n    <tr>\n      <th>0</th>\n      <td>1.236667</td>\n      <td>83.173750</td>\n      <td>139.610000</td>\n      <td>13.262222</td>\n      <td>6.456667</td>\n      <td>143.593333</td>\n    </tr>\n    <tr>\n      <th>1</th>\n      <td>1.838000</td>\n      <td>80.455714</td>\n      <td>150.232857</td>\n      <td>13.662857</td>\n      <td>9.240000</td>\n      <td>82.424000</td>\n    </tr>\n    <tr>\n      <th>2</th>\n      <td>2.170000</td>\n      <td>89.217500</td>\n      <td>140.210000</td>\n      <td>15.700000</td>\n      <td>6.466667</td>\n      <td>75.283333</td>\n    </tr>\n    <tr>\n      <th>3</th>\n      <td>0.996000</td>\n      <td>74.857143</td>\n      <td>139.588571</td>\n      <td>13.198000</td>\n      <td>6.525000</td>\n      <td>98.246000</td>\n    </tr>\n    <tr>\n      <th>4</th>\n      <td>1.150000</td>\n      <td>97.385714</td>\n      <td>160.667143</td>\n      <td>12.658000</td>\n      <td>9.720000</td>\n      <td>65.907500</td>\n    </tr>\n    <tr>\n      <th>...</th>\n      <td>...</td>\n      <td>...</td>\n      <td>...</td>\n      <td>...</td>\n      <td>...</td>\n      <td>...</td>\n    </tr>\n    <tr>\n      <th>295</th>\n      <td>1.774000</td>\n      <td>83.420000</td>\n      <td>139.603750</td>\n      <td>14.106250</td>\n      <td>5.877143</td>\n      <td>118.198000</td>\n    </tr>\n    <tr>\n      <th>296</th>\n      <td>1.432000</td>\n      <td>88.365714</td>\n      <td>131.017143</td>\n      <td>14.784000</td>\n      <td>8.354000</td>\n      <td>102.960000</td>\n    </tr>\n    <tr>\n      <th>297</th>\n      <td>1.241667</td>\n      <td>70.895000</td>\n      <td>125.318750</td>\n      <td>14.190000</td>\n      <td>8.275000</td>\n      <td>130.898333</td>\n    </tr>\n    <tr>\n      <th>298</th>\n      <td>1.116000</td>\n      <td>76.475000</td>\n      <td>125.255000</td>\n      <td>16.360000</td>\n      <td>5.867500</td>\n      <td>78.074000</td>\n    </tr>\n    <tr>\n      <th>299</th>\n      <td>1.010000</td>\n      <td>74.970000</td>\n      <td>114.737143</td>\n      <td>14.672000</td>\n      <td>5.980000</td>\n      <td>72.916667</td>\n    </tr>\n  </tbody>\n</table>\n<p>300 rows × 6 columns</p>\n</div>"
     },
     "execution_count": 18,
     "metadata": {},
     "output_type": "execute_result"
    }
   ],
   "source": [
    "# Group values by patient id\n",
    "# Get the mean value for each patient across all time points\n",
    "\n",
    "cre_s = pd.Series({i:data.value.mean() for i, data in cre.groupby(\"id\")}, name=\"cre\")\n",
    "dbp_s = pd.Series({i:data.value.mean() for i, data in dbp.groupby(\"id\")}, name=\"dbp\")\n",
    "sbp_s = pd.Series({i:data.value.mean() for i, data in sbp.groupby(\"id\")}, name=\"sbp\")\n",
    "hgb_s = pd.Series({i:data.value.mean() for i, data in hgb.groupby(\"id\")}, name=\"hgb\")\n",
    "glu_s = pd.Series({i:data.value.mean() for i, data in glu.groupby(\"id\")}, name=\"glu\")\n",
    "ldl_s = pd.Series({i:data.value.mean() for i, data in ldl.groupby(\"id\")}, name=\"ldl\")\n",
    "\n",
    "# Create a new data frame  with the means\n",
    "biomarkers_mean = pd.concat([cre_s, dbp_s, sbp_s, hgb_s, glu_s, ldl_s], axis=1)\n",
    "biomarkers_mean"
   ],
   "metadata": {
    "collapsed": false,
    "pycharm": {
     "name": "#%%\n"
    }
   }
  },
  {
   "cell_type": "code",
   "execution_count": 21,
   "outputs": [
    {
     "data": {
      "text/plain": "     atenolol  atorvastatin  bisoprolol  canagliflozin  carvedilol  \\\n0       False          True       False          False       False   \n1       False          True       False          False       False   \n2       False         False       False          False       False   \n3       False          True       False          False       False   \n4       False         False       False          False       False   \n..        ...           ...         ...            ...         ...   \n295     False         False       False          False       False   \n296     False          True       False          False       False   \n297     False         False       False          False       False   \n298     False          True       False          False       False   \n299     False          True       False          False       False   \n\n     dapagliflozin  irbesartan  labetalol  losartan  lovastatin  ...  \\\n0            False       False      False      True       False  ...   \n1            False       False      False     False       False  ...   \n2            False       False      False     False       False  ...   \n3            False       False      False     False       False  ...   \n4            False       False      False      True       False  ...   \n..             ...         ...        ...       ...         ...  ...   \n295          False       False      False     False       False  ...   \n296          False       False      False     False       False  ...   \n297          False        True      False     False       False  ...   \n298          False       False      False     False       False  ...   \n299          False       False      False      True       False  ...   \n\n     metoprolol  nebivolol  olmesartan  pitavastatin  pravastatin  \\\n0         False      False       False         False        False   \n1         False      False       False         False        False   \n2         False      False       False         False        False   \n3         False      False       False         False        False   \n4         False      False       False         False         True   \n..          ...        ...         ...           ...          ...   \n295       False      False       False         False        False   \n296       False      False       False         False        False   \n297        True      False       False          True        False   \n298       False      False       False         False        False   \n299       False      False       False         False        False   \n\n     propranolol  rosuvastatin  simvastatin  telmisartan  valsartan  \n0          False         False        False        False      False  \n1          False         False        False        False      False  \n2          False          True        False        False      False  \n3          False         False        False        False      False  \n4          False         False        False        False      False  \n..           ...           ...          ...          ...        ...  \n295        False         False        False        False      False  \n296        False         False        False        False      False  \n297        False         False        False        False       True  \n298        False         False        False        False      False  \n299        False         False        False        False      False  \n\n[300 rows x 21 columns]",
      "text/html": "<div>\n<style scoped>\n    .dataframe tbody tr th:only-of-type {\n        vertical-align: middle;\n    }\n\n    .dataframe tbody tr th {\n        vertical-align: top;\n    }\n\n    .dataframe thead th {\n        text-align: right;\n    }\n</style>\n<table border=\"1\" class=\"dataframe\">\n  <thead>\n    <tr style=\"text-align: right;\">\n      <th></th>\n      <th>atenolol</th>\n      <th>atorvastatin</th>\n      <th>bisoprolol</th>\n      <th>canagliflozin</th>\n      <th>carvedilol</th>\n      <th>dapagliflozin</th>\n      <th>irbesartan</th>\n      <th>labetalol</th>\n      <th>losartan</th>\n      <th>lovastatin</th>\n      <th>...</th>\n      <th>metoprolol</th>\n      <th>nebivolol</th>\n      <th>olmesartan</th>\n      <th>pitavastatin</th>\n      <th>pravastatin</th>\n      <th>propranolol</th>\n      <th>rosuvastatin</th>\n      <th>simvastatin</th>\n      <th>telmisartan</th>\n      <th>valsartan</th>\n    </tr>\n  </thead>\n  <tbody>\n    <tr>\n      <th>0</th>\n      <td>False</td>\n      <td>True</td>\n      <td>False</td>\n      <td>False</td>\n      <td>False</td>\n      <td>False</td>\n      <td>False</td>\n      <td>False</td>\n      <td>True</td>\n      <td>False</td>\n      <td>...</td>\n      <td>False</td>\n      <td>False</td>\n      <td>False</td>\n      <td>False</td>\n      <td>False</td>\n      <td>False</td>\n      <td>False</td>\n      <td>False</td>\n      <td>False</td>\n      <td>False</td>\n    </tr>\n    <tr>\n      <th>1</th>\n      <td>False</td>\n      <td>True</td>\n      <td>False</td>\n      <td>False</td>\n      <td>False</td>\n      <td>False</td>\n      <td>False</td>\n      <td>False</td>\n      <td>False</td>\n      <td>False</td>\n      <td>...</td>\n      <td>False</td>\n      <td>False</td>\n      <td>False</td>\n      <td>False</td>\n      <td>False</td>\n      <td>False</td>\n      <td>False</td>\n      <td>False</td>\n      <td>False</td>\n      <td>False</td>\n    </tr>\n    <tr>\n      <th>2</th>\n      <td>False</td>\n      <td>False</td>\n      <td>False</td>\n      <td>False</td>\n      <td>False</td>\n      <td>False</td>\n      <td>False</td>\n      <td>False</td>\n      <td>False</td>\n      <td>False</td>\n      <td>...</td>\n      <td>False</td>\n      <td>False</td>\n      <td>False</td>\n      <td>False</td>\n      <td>False</td>\n      <td>False</td>\n      <td>True</td>\n      <td>False</td>\n      <td>False</td>\n      <td>False</td>\n    </tr>\n    <tr>\n      <th>3</th>\n      <td>False</td>\n      <td>True</td>\n      <td>False</td>\n      <td>False</td>\n      <td>False</td>\n      <td>False</td>\n      <td>False</td>\n      <td>False</td>\n      <td>False</td>\n      <td>False</td>\n      <td>...</td>\n      <td>False</td>\n      <td>False</td>\n      <td>False</td>\n      <td>False</td>\n      <td>False</td>\n      <td>False</td>\n      <td>False</td>\n      <td>False</td>\n      <td>False</td>\n      <td>False</td>\n    </tr>\n    <tr>\n      <th>4</th>\n      <td>False</td>\n      <td>False</td>\n      <td>False</td>\n      <td>False</td>\n      <td>False</td>\n      <td>False</td>\n      <td>False</td>\n      <td>False</td>\n      <td>True</td>\n      <td>False</td>\n      <td>...</td>\n      <td>False</td>\n      <td>False</td>\n      <td>False</td>\n      <td>False</td>\n      <td>True</td>\n      <td>False</td>\n      <td>False</td>\n      <td>False</td>\n      <td>False</td>\n      <td>False</td>\n    </tr>\n    <tr>\n      <th>...</th>\n      <td>...</td>\n      <td>...</td>\n      <td>...</td>\n      <td>...</td>\n      <td>...</td>\n      <td>...</td>\n      <td>...</td>\n      <td>...</td>\n      <td>...</td>\n      <td>...</td>\n      <td>...</td>\n      <td>...</td>\n      <td>...</td>\n      <td>...</td>\n      <td>...</td>\n      <td>...</td>\n      <td>...</td>\n      <td>...</td>\n      <td>...</td>\n      <td>...</td>\n      <td>...</td>\n    </tr>\n    <tr>\n      <th>295</th>\n      <td>False</td>\n      <td>False</td>\n      <td>False</td>\n      <td>False</td>\n      <td>False</td>\n      <td>False</td>\n      <td>False</td>\n      <td>False</td>\n      <td>False</td>\n      <td>False</td>\n      <td>...</td>\n      <td>False</td>\n      <td>False</td>\n      <td>False</td>\n      <td>False</td>\n      <td>False</td>\n      <td>False</td>\n      <td>False</td>\n      <td>False</td>\n      <td>False</td>\n      <td>False</td>\n    </tr>\n    <tr>\n      <th>296</th>\n      <td>False</td>\n      <td>True</td>\n      <td>False</td>\n      <td>False</td>\n      <td>False</td>\n      <td>False</td>\n      <td>False</td>\n      <td>False</td>\n      <td>False</td>\n      <td>False</td>\n      <td>...</td>\n      <td>False</td>\n      <td>False</td>\n      <td>False</td>\n      <td>False</td>\n      <td>False</td>\n      <td>False</td>\n      <td>False</td>\n      <td>False</td>\n      <td>False</td>\n      <td>False</td>\n    </tr>\n    <tr>\n      <th>297</th>\n      <td>False</td>\n      <td>False</td>\n      <td>False</td>\n      <td>False</td>\n      <td>False</td>\n      <td>False</td>\n      <td>True</td>\n      <td>False</td>\n      <td>False</td>\n      <td>False</td>\n      <td>...</td>\n      <td>True</td>\n      <td>False</td>\n      <td>False</td>\n      <td>True</td>\n      <td>False</td>\n      <td>False</td>\n      <td>False</td>\n      <td>False</td>\n      <td>False</td>\n      <td>True</td>\n    </tr>\n    <tr>\n      <th>298</th>\n      <td>False</td>\n      <td>True</td>\n      <td>False</td>\n      <td>False</td>\n      <td>False</td>\n      <td>False</td>\n      <td>False</td>\n      <td>False</td>\n      <td>False</td>\n      <td>False</td>\n      <td>...</td>\n      <td>False</td>\n      <td>False</td>\n      <td>False</td>\n      <td>False</td>\n      <td>False</td>\n      <td>False</td>\n      <td>False</td>\n      <td>False</td>\n      <td>False</td>\n      <td>False</td>\n    </tr>\n    <tr>\n      <th>299</th>\n      <td>False</td>\n      <td>True</td>\n      <td>False</td>\n      <td>False</td>\n      <td>False</td>\n      <td>False</td>\n      <td>False</td>\n      <td>False</td>\n      <td>True</td>\n      <td>False</td>\n      <td>...</td>\n      <td>False</td>\n      <td>False</td>\n      <td>False</td>\n      <td>False</td>\n      <td>False</td>\n      <td>False</td>\n      <td>False</td>\n      <td>False</td>\n      <td>False</td>\n      <td>False</td>\n    </tr>\n  </tbody>\n</table>\n<p>300 rows × 21 columns</p>\n</div>"
     },
     "execution_count": 21,
     "metadata": {},
     "output_type": "execute_result"
    }
   ],
   "source": [
    "# Binarize medication labels\n",
    "# First let's create a dataframe with drugs as columns\n",
    "meds_bin = pd.DataFrame()\n",
    "\n",
    "# Iterate over the medications table grouping it by drug\n",
    "for i,data in meds.groupby(\"drug\"):\n",
    "\n",
    "    # Create an empty array\n",
    "    drug = np.zeros(demo.id.shape, dtype=bool)\n",
    "\n",
    "    # For each drug, get the patients that are taking it\n",
    "    # Change the value of the array to true only for the patients taking the drug\n",
    "    drug[data.id.unique()]=True\n",
    "\n",
    "    # Add a column for the specific drug to the binarized meds dataframe\n",
    "    meds_bin[i]=drug\n",
    "\n",
    "meds_bin"
   ],
   "metadata": {
    "collapsed": false,
    "pycharm": {
     "name": "#%%\n"
    }
   }
  },
  {
   "cell_type": "code",
   "execution_count": 22,
   "outputs": [],
   "source": [
    "# Binarize sex\n",
    "sex = pd.get_dummies(demo.gender)[\"Male\"]\n",
    "\n",
    "# Binarize race remove unknown\n",
    "race = pd.get_dummies(demo.race).drop(\"Unknown\", axis=1)"
   ],
   "metadata": {
    "collapsed": false,
    "pycharm": {
     "name": "#%%\n"
    }
   }
  },
  {
   "cell_type": "code",
   "execution_count": 23,
   "outputs": [
    {
     "name": "stdout",
     "output_type": "stream",
     "text": [
      "(270, 46)\n",
      "(30, 46)\n"
     ]
    }
   ],
   "source": [
    "# Let's first split the data into a training and a test set\n",
    "# To do so we split the stage progression and take 15 ids each\n",
    "# This way we have a 90:10 train-test split with a balanced test set\n",
    "\n",
    "# Merging all data together\n",
    "all_data = pd.concat([demo.age, sex, race, biomarkers_diff, biomarkers_slop, biomarkers_mean, meds_bin, stage.drop(\"id\", axis=1)], axis=1)\n",
    "\n",
    "# Separating progression trues and falses\n",
    "true = all_data[all_data.Stage_Progress]\n",
    "false = all_data[~all_data.Stage_Progress]\n",
    "\n",
    "# Specify the test size\n",
    "true_train, true_test = train_test_split(true, test_size=15, random_state=42)\n",
    "false_train, false_test = train_test_split(false, test_size=15, random_state=42)\n",
    "\n",
    "# Concatenate together true and false so we have only train, test\n",
    "train = pd.concat([true_train, false_train])#.sort_values(by=\"id\")\n",
    "test = pd.concat([true_test, false_test])#.sort_values(by=\"id\")\n",
    "\n",
    "print(train.shape)\n",
    "print(test.shape)"
   ],
   "metadata": {
    "collapsed": false,
    "pycharm": {
     "name": "#%%\n"
    }
   }
  },
  {
   "cell_type": "code",
   "execution_count": 24,
   "outputs": [
    {
     "name": "stdout",
     "output_type": "stream",
     "text": [
      "Data points in train test 270\n",
      "Data points in train test 30\n"
     ]
    }
   ],
   "source": [
    "print(f\"Data points in train test {train.shape[0]}\")\n",
    "print(f\"Data points in train test {test.shape[0]}\")"
   ],
   "metadata": {
    "collapsed": false,
    "pycharm": {
     "name": "#%%\n"
    }
   }
  },
  {
   "cell_type": "code",
   "execution_count": 31,
   "outputs": [
    {
     "name": "stdout",
     "output_type": "stream",
     "text": [
      "Wall time: 3min 34s\n"
     ]
    },
    {
     "data": {
      "text/plain": "RandomForestClassifier(class_weight='balanced', n_estimators=100000, n_jobs=-1,\n                       oob_score=True)"
     },
     "execution_count": 31,
     "metadata": {},
     "output_type": "execute_result"
    }
   ],
   "source": [
    "%%time\n",
    "# Train a random forest\n",
    "model = RandomForestClassifier(bootstrap=True, n_estimators=100000, oob_score=True, class_weight=\"balanced\")\n",
    "model.fit(train.drop(\"Stage_Progress\", axis=1), train[\"Stage_Progress\"].values.ravel())"
   ],
   "metadata": {
    "collapsed": false,
    "pycharm": {
     "name": "#%%%\n"
    }
   }
  },
  {
   "cell_type": "code",
   "execution_count": 32,
   "outputs": [
    {
     "name": "stdout",
     "output_type": "stream",
     "text": [
      "Model Out of the bag score = 0.7888888888888889\n",
      "Model accuracy = 0.8\n"
     ]
    }
   ],
   "source": [
    "print(f\"Model Out of the bag score = {model.oob_score_}\")\n",
    "print(f\"Model accuracy = {model.score(test.drop('Stage_Progress', axis=1), test['Stage_Progress'].values.ravel())}\")\n"
   ],
   "metadata": {
    "collapsed": false,
    "pycharm": {
     "name": "#%%\n"
    }
   }
  },
  {
   "cell_type": "code",
   "execution_count": 33,
   "outputs": [
    {
     "data": {
      "text/plain": "<Figure size 576x576 with 2 Axes>",
      "image/png": "[encoded data removed]"
     },
     "metadata": {
      "needs_background": "light"
     },
     "output_type": "display_data"
    }
   ],
   "source": [
    "predicted = model.predict(test.drop(\"Stage_Progress\", axis=1))\n",
    "cm = confusion_matrix(test[\"Stage_Progress\"], predicted)\n",
    "plot_confusion_matrix(cm)\n",
    "plt.show()"
   ],
   "metadata": {
    "collapsed": false,
    "pycharm": {
     "name": "#%%\n"
    }
   }
  },
  {
   "cell_type": "code",
   "execution_count": 34,
   "outputs": [
    {
     "data": {
      "text/plain": "0.8"
     },
     "execution_count": 34,
     "metadata": {},
     "output_type": "execute_result"
    }
   ],
   "source": [
    "accuracy_score(test[\"Stage_Progress\"], predicted)"
   ],
   "metadata": {
    "collapsed": false,
    "pycharm": {
     "name": "#%%\n"
    }
   }
  },
  {
   "cell_type": "code",
   "execution_count": 35,
   "outputs": [
    {
     "data": {
      "text/plain": "<AxesSubplot:>"
     },
     "execution_count": 35,
     "metadata": {},
     "output_type": "execute_result"
    },
    {
     "data": {
      "text/plain": "<Figure size 432x288 with 1 Axes>",
      "image/png": "[encoded data removed]"
     },
     "metadata": {
      "needs_background": "light"
     },
     "output_type": "display_data"
    }
   ],
   "source": [
    "# Check feature importance\n",
    "sns.scatterplot(y=model.feature_importances_, x=range(len(model.feature_importances_)))\n"
   ],
   "metadata": {
    "collapsed": false,
    "pycharm": {
     "name": "#%%\n"
    }
   }
  },
  {
   "cell_type": "code",
   "execution_count": null,
   "outputs": [],
   "source": [],
   "metadata": {
    "collapsed": false,
    "pycharm": {
     "name": "#%%\n"
    }
   }
  }
 ],
 "metadata": {
  "kernelspec": {
   "display_name": "Python 3",
   "language": "python",
   "name": "python3"
  },
  "language_info": {
   "codemirror_mode": {
    "name": "ipython",
    "version": 2
   },
   "file_extension": ".py",
   "mimetype": "text/x-python",
   "name": "python",
   "nbconvert_exporter": "python",
   "pygments_lexer": "ipython2",
   "version": "2.7.6"
  }
 },
 "nbformat": 4,
 "nbformat_minor": 0
}