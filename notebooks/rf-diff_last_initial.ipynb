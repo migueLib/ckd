{
 "cells": [
  {
   "cell_type": "code",
   "execution_count": 1,
   "metadata": {
    "tags": []
   },
   "outputs": [],
   "source": [
    "# Import built-in libraries\n",
    "import os\n",
    "from os.path import abspath\n",
    "\n",
    "# Import external libraries\n",
    "import sklearn\n",
    "import numpy as np\n",
    "import pandas as pd\n",
    "import matplotlib.pyplot as plt\n",
    "import seaborn as sns\n",
    "from sklearn.model_selection import train_test_split\n",
    "from sklearn.ensemble import RandomForestClassifier\n",
    "from sklearn.metrics import confusion_matrix\n",
    "from sklearn.metrics import accuracy_score\n",
    "\n",
    "# Import internal libraries\n",
    "from src.plot_confusion_matrix import plot_confusion_matrix"
   ]
  },
  {
   "cell_type": "code",
   "execution_count": 2,
   "metadata": {
    "collapsed": false,
    "jupyter": {
     "outputs_hidden": false
    },
    "pycharm": {
     "name": "#%%\n"
    }
   },
   "outputs": [],
   "source": [
    "# Load all data\n",
    "demo = pd.read_csv(abspath(\"../data/T_demo.csv\"))\n",
    "stage = pd.read_csv(abspath(\"../data/T_stage.csv\"))\n",
    "\n",
    "# Biomarkers\n",
    "cre = pd.read_csv(abspath(\"../data/T_creatinine.csv\"))\n",
    "dbp = pd.read_csv(abspath(\"../data/T_DBP.csv\"))\n",
    "sbp = pd.read_csv(abspath(\"../data/T_SBP.csv\"))\n",
    "hgb = pd.read_csv(abspath(\"../data/T_HGB.csv\"))\n",
    "glu = pd.read_csv(abspath(\"../data/T_glucose.csv\"))\n",
    "ldl = pd.read_csv(abspath(\"../data/T_ldl.csv\"))\n",
    "\n",
    "# Medication\n",
    "meds = pd.read_csv(abspath(\"../data/T_meds.csv\"))"
   ]
  },
  {
   "cell_type": "markdown",
   "source": [
    "- Ok, so we have time series data now what?\n",
    "- First thing is to identify tendencies on the data.\n",
    "- My first try would be taking into account only the difference between the last and first point."
   ],
   "metadata": {
    "collapsed": false,
    "pycharm": {
     "name": "#%% md\n"
    }
   }
  },
  {
   "cell_type": "code",
   "execution_count": 3,
   "outputs": [
    {
     "data": {
      "text/plain": "      cre    dbp    sbp   hgb   glu    ldl\n0   -0.06 -11.03  13.39 -0.38 -0.46  -3.59\n1    0.46  18.50  -7.80 -1.04 -0.18 -16.33\n2   -0.31  10.39   3.57 -0.15 -0.20  25.52\n3    0.16 -12.64  -4.58 -1.08 -0.66   1.71\n4   -0.41  22.34  37.67 -1.58  2.24   6.30\n..    ...    ...    ...   ...   ...    ...\n295 -0.31  -0.30 -16.35  0.61 -0.64  12.02\n296 -0.47   5.84   3.50  0.19  0.69  -8.61\n297  0.06  13.68  -8.77  0.43  1.28  17.05\n298 -0.06 -16.14  -6.19  1.96 -0.44 -16.98\n299 -0.30  -5.80   9.43 -0.23  0.60  12.57\n\n[300 rows x 6 columns]",
      "text/html": "<div>\n<style scoped>\n    .dataframe tbody tr th:only-of-type {\n        vertical-align: middle;\n    }\n\n    .dataframe tbody tr th {\n        vertical-align: top;\n    }\n\n    .dataframe thead th {\n        text-align: right;\n    }\n</style>\n<table border=\"1\" class=\"dataframe\">\n  <thead>\n    <tr style=\"text-align: right;\">\n      <th></th>\n      <th>cre</th>\n      <th>dbp</th>\n      <th>sbp</th>\n      <th>hgb</th>\n      <th>glu</th>\n      <th>ldl</th>\n    </tr>\n  </thead>\n  <tbody>\n    <tr>\n      <th>0</th>\n      <td>-0.06</td>\n      <td>-11.03</td>\n      <td>13.39</td>\n      <td>-0.38</td>\n      <td>-0.46</td>\n      <td>-3.59</td>\n    </tr>\n    <tr>\n      <th>1</th>\n      <td>0.46</td>\n      <td>18.50</td>\n      <td>-7.80</td>\n      <td>-1.04</td>\n      <td>-0.18</td>\n      <td>-16.33</td>\n    </tr>\n    <tr>\n      <th>2</th>\n      <td>-0.31</td>\n      <td>10.39</td>\n      <td>3.57</td>\n      <td>-0.15</td>\n      <td>-0.20</td>\n      <td>25.52</td>\n    </tr>\n    <tr>\n      <th>3</th>\n      <td>0.16</td>\n      <td>-12.64</td>\n      <td>-4.58</td>\n      <td>-1.08</td>\n      <td>-0.66</td>\n      <td>1.71</td>\n    </tr>\n    <tr>\n      <th>4</th>\n      <td>-0.41</td>\n      <td>22.34</td>\n      <td>37.67</td>\n      <td>-1.58</td>\n      <td>2.24</td>\n      <td>6.30</td>\n    </tr>\n    <tr>\n      <th>...</th>\n      <td>...</td>\n      <td>...</td>\n      <td>...</td>\n      <td>...</td>\n      <td>...</td>\n      <td>...</td>\n    </tr>\n    <tr>\n      <th>295</th>\n      <td>-0.31</td>\n      <td>-0.30</td>\n      <td>-16.35</td>\n      <td>0.61</td>\n      <td>-0.64</td>\n      <td>12.02</td>\n    </tr>\n    <tr>\n      <th>296</th>\n      <td>-0.47</td>\n      <td>5.84</td>\n      <td>3.50</td>\n      <td>0.19</td>\n      <td>0.69</td>\n      <td>-8.61</td>\n    </tr>\n    <tr>\n      <th>297</th>\n      <td>0.06</td>\n      <td>13.68</td>\n      <td>-8.77</td>\n      <td>0.43</td>\n      <td>1.28</td>\n      <td>17.05</td>\n    </tr>\n    <tr>\n      <th>298</th>\n      <td>-0.06</td>\n      <td>-16.14</td>\n      <td>-6.19</td>\n      <td>1.96</td>\n      <td>-0.44</td>\n      <td>-16.98</td>\n    </tr>\n    <tr>\n      <th>299</th>\n      <td>-0.30</td>\n      <td>-5.80</td>\n      <td>9.43</td>\n      <td>-0.23</td>\n      <td>0.60</td>\n      <td>12.57</td>\n    </tr>\n  </tbody>\n</table>\n<p>300 rows × 6 columns</p>\n</div>"
     },
     "execution_count": 3,
     "metadata": {},
     "output_type": "execute_result"
    }
   ],
   "source": [
    "# Group values by patient id\n",
    "# Calculate the difference between the latest and first measurement for all biomarkers\n",
    "cre_s = pd.Series({i:(data.iloc[-1]-data.iloc[0]).value for i, data in cre.groupby(\"id\")}, name=\"cre\")\n",
    "dbp_s = pd.Series({i:(data.iloc[-1]-data.iloc[0]).value for i, data in dbp.groupby(\"id\")}, name=\"dbp\")\n",
    "sbp_s = pd.Series({i:(data.iloc[-1]-data.iloc[0]).value for i, data in sbp.groupby(\"id\")}, name=\"sbp\")\n",
    "hgb_s = pd.Series({i:(data.iloc[-1]-data.iloc[0]).value for i, data in hgb.groupby(\"id\")}, name=\"hgb\")\n",
    "glu_s = pd.Series({i:(data.iloc[-1]-data.iloc[0]).value for i, data in glu.groupby(\"id\")}, name=\"glu\")\n",
    "ldl_s = pd.Series({i:(data.iloc[-1]-data.iloc[0]).value for i, data in ldl.groupby(\"id\")}, name=\"ldl\")\n",
    "\n",
    "\n",
    "# Create a new data frame with the differences\n",
    "biomarkers_diff = pd.concat([cre_s, dbp_s, sbp_s, hgb_s, glu_s, ldl_s], axis=1)\n",
    "biomarkers_diff"
   ],
   "metadata": {
    "collapsed": false,
    "pycharm": {
     "name": "#%%\n"
    }
   }
  },
  {
   "cell_type": "code",
   "execution_count": 4,
   "metadata": {},
   "outputs": [
    {
     "data": {
      "text/plain": "     atenolol  atorvastatin  bisoprolol  canagliflozin  carvedilol  \\\n0       False          True       False          False       False   \n1       False          True       False          False       False   \n2       False         False       False          False       False   \n3       False          True       False          False       False   \n4       False         False       False          False       False   \n..        ...           ...         ...            ...         ...   \n295     False         False       False          False       False   \n296     False          True       False          False       False   \n297     False         False       False          False       False   \n298     False          True       False          False       False   \n299     False          True       False          False       False   \n\n     dapagliflozin  irbesartan  labetalol  losartan  lovastatin  ...  \\\n0            False       False      False      True       False  ...   \n1            False       False      False     False       False  ...   \n2            False       False      False     False       False  ...   \n3            False       False      False     False       False  ...   \n4            False       False      False      True       False  ...   \n..             ...         ...        ...       ...         ...  ...   \n295          False       False      False     False       False  ...   \n296          False       False      False     False       False  ...   \n297          False        True      False     False       False  ...   \n298          False       False      False     False       False  ...   \n299          False       False      False      True       False  ...   \n\n     metoprolol  nebivolol  olmesartan  pitavastatin  pravastatin  \\\n0         False      False       False         False        False   \n1         False      False       False         False        False   \n2         False      False       False         False        False   \n3         False      False       False         False        False   \n4         False      False       False         False         True   \n..          ...        ...         ...           ...          ...   \n295       False      False       False         False        False   \n296       False      False       False         False        False   \n297        True      False       False          True        False   \n298       False      False       False         False        False   \n299       False      False       False         False        False   \n\n     propranolol  rosuvastatin  simvastatin  telmisartan  valsartan  \n0          False         False        False        False      False  \n1          False         False        False        False      False  \n2          False          True        False        False      False  \n3          False         False        False        False      False  \n4          False         False        False        False      False  \n..           ...           ...          ...          ...        ...  \n295        False         False        False        False      False  \n296        False         False        False        False      False  \n297        False         False        False        False       True  \n298        False         False        False        False      False  \n299        False         False        False        False      False  \n\n[300 rows x 21 columns]",
      "text/html": "<div>\n<style scoped>\n    .dataframe tbody tr th:only-of-type {\n        vertical-align: middle;\n    }\n\n    .dataframe tbody tr th {\n        vertical-align: top;\n    }\n\n    .dataframe thead th {\n        text-align: right;\n    }\n</style>\n<table border=\"1\" class=\"dataframe\">\n  <thead>\n    <tr style=\"text-align: right;\">\n      <th></th>\n      <th>atenolol</th>\n      <th>atorvastatin</th>\n      <th>bisoprolol</th>\n      <th>canagliflozin</th>\n      <th>carvedilol</th>\n      <th>dapagliflozin</th>\n      <th>irbesartan</th>\n      <th>labetalol</th>\n      <th>losartan</th>\n      <th>lovastatin</th>\n      <th>...</th>\n      <th>metoprolol</th>\n      <th>nebivolol</th>\n      <th>olmesartan</th>\n      <th>pitavastatin</th>\n      <th>pravastatin</th>\n      <th>propranolol</th>\n      <th>rosuvastatin</th>\n      <th>simvastatin</th>\n      <th>telmisartan</th>\n      <th>valsartan</th>\n    </tr>\n  </thead>\n  <tbody>\n    <tr>\n      <th>0</th>\n      <td>False</td>\n      <td>True</td>\n      <td>False</td>\n      <td>False</td>\n      <td>False</td>\n      <td>False</td>\n      <td>False</td>\n      <td>False</td>\n      <td>True</td>\n      <td>False</td>\n      <td>...</td>\n      <td>False</td>\n      <td>False</td>\n      <td>False</td>\n      <td>False</td>\n      <td>False</td>\n      <td>False</td>\n      <td>False</td>\n      <td>False</td>\n      <td>False</td>\n      <td>False</td>\n    </tr>\n    <tr>\n      <th>1</th>\n      <td>False</td>\n      <td>True</td>\n      <td>False</td>\n      <td>False</td>\n      <td>False</td>\n      <td>False</td>\n      <td>False</td>\n      <td>False</td>\n      <td>False</td>\n      <td>False</td>\n      <td>...</td>\n      <td>False</td>\n      <td>False</td>\n      <td>False</td>\n      <td>False</td>\n      <td>False</td>\n      <td>False</td>\n      <td>False</td>\n      <td>False</td>\n      <td>False</td>\n      <td>False</td>\n    </tr>\n    <tr>\n      <th>2</th>\n      <td>False</td>\n      <td>False</td>\n      <td>False</td>\n      <td>False</td>\n      <td>False</td>\n      <td>False</td>\n      <td>False</td>\n      <td>False</td>\n      <td>False</td>\n      <td>False</td>\n      <td>...</td>\n      <td>False</td>\n      <td>False</td>\n      <td>False</td>\n      <td>False</td>\n      <td>False</td>\n      <td>False</td>\n      <td>True</td>\n      <td>False</td>\n      <td>False</td>\n      <td>False</td>\n    </tr>\n    <tr>\n      <th>3</th>\n      <td>False</td>\n      <td>True</td>\n      <td>False</td>\n      <td>False</td>\n      <td>False</td>\n      <td>False</td>\n      <td>False</td>\n      <td>False</td>\n      <td>False</td>\n      <td>False</td>\n      <td>...</td>\n      <td>False</td>\n      <td>False</td>\n      <td>False</td>\n      <td>False</td>\n      <td>False</td>\n      <td>False</td>\n      <td>False</td>\n      <td>False</td>\n      <td>False</td>\n      <td>False</td>\n    </tr>\n    <tr>\n      <th>4</th>\n      <td>False</td>\n      <td>False</td>\n      <td>False</td>\n      <td>False</td>\n      <td>False</td>\n      <td>False</td>\n      <td>False</td>\n      <td>False</td>\n      <td>True</td>\n      <td>False</td>\n      <td>...</td>\n      <td>False</td>\n      <td>False</td>\n      <td>False</td>\n      <td>False</td>\n      <td>True</td>\n      <td>False</td>\n      <td>False</td>\n      <td>False</td>\n      <td>False</td>\n      <td>False</td>\n    </tr>\n    <tr>\n      <th>...</th>\n      <td>...</td>\n      <td>...</td>\n      <td>...</td>\n      <td>...</td>\n      <td>...</td>\n      <td>...</td>\n      <td>...</td>\n      <td>...</td>\n      <td>...</td>\n      <td>...</td>\n      <td>...</td>\n      <td>...</td>\n      <td>...</td>\n      <td>...</td>\n      <td>...</td>\n      <td>...</td>\n      <td>...</td>\n      <td>...</td>\n      <td>...</td>\n      <td>...</td>\n      <td>...</td>\n    </tr>\n    <tr>\n      <th>295</th>\n      <td>False</td>\n      <td>False</td>\n      <td>False</td>\n      <td>False</td>\n      <td>False</td>\n      <td>False</td>\n      <td>False</td>\n      <td>False</td>\n      <td>False</td>\n      <td>False</td>\n      <td>...</td>\n      <td>False</td>\n      <td>False</td>\n      <td>False</td>\n      <td>False</td>\n      <td>False</td>\n      <td>False</td>\n      <td>False</td>\n      <td>False</td>\n      <td>False</td>\n      <td>False</td>\n    </tr>\n    <tr>\n      <th>296</th>\n      <td>False</td>\n      <td>True</td>\n      <td>False</td>\n      <td>False</td>\n      <td>False</td>\n      <td>False</td>\n      <td>False</td>\n      <td>False</td>\n      <td>False</td>\n      <td>False</td>\n      <td>...</td>\n      <td>False</td>\n      <td>False</td>\n      <td>False</td>\n      <td>False</td>\n      <td>False</td>\n      <td>False</td>\n      <td>False</td>\n      <td>False</td>\n      <td>False</td>\n      <td>False</td>\n    </tr>\n    <tr>\n      <th>297</th>\n      <td>False</td>\n      <td>False</td>\n      <td>False</td>\n      <td>False</td>\n      <td>False</td>\n      <td>False</td>\n      <td>True</td>\n      <td>False</td>\n      <td>False</td>\n      <td>False</td>\n      <td>...</td>\n      <td>True</td>\n      <td>False</td>\n      <td>False</td>\n      <td>True</td>\n      <td>False</td>\n      <td>False</td>\n      <td>False</td>\n      <td>False</td>\n      <td>False</td>\n      <td>True</td>\n    </tr>\n    <tr>\n      <th>298</th>\n      <td>False</td>\n      <td>True</td>\n      <td>False</td>\n      <td>False</td>\n      <td>False</td>\n      <td>False</td>\n      <td>False</td>\n      <td>False</td>\n      <td>False</td>\n      <td>False</td>\n      <td>...</td>\n      <td>False</td>\n      <td>False</td>\n      <td>False</td>\n      <td>False</td>\n      <td>False</td>\n      <td>False</td>\n      <td>False</td>\n      <td>False</td>\n      <td>False</td>\n      <td>False</td>\n    </tr>\n    <tr>\n      <th>299</th>\n      <td>False</td>\n      <td>True</td>\n      <td>False</td>\n      <td>False</td>\n      <td>False</td>\n      <td>False</td>\n      <td>False</td>\n      <td>False</td>\n      <td>True</td>\n      <td>False</td>\n      <td>...</td>\n      <td>False</td>\n      <td>False</td>\n      <td>False</td>\n      <td>False</td>\n      <td>False</td>\n      <td>False</td>\n      <td>False</td>\n      <td>False</td>\n      <td>False</td>\n      <td>False</td>\n    </tr>\n  </tbody>\n</table>\n<p>300 rows × 21 columns</p>\n</div>"
     },
     "execution_count": 4,
     "metadata": {},
     "output_type": "execute_result"
    }
   ],
   "source": [
    "# Binarize medication labels\n",
    "# First let's create a dataframe with drugs as columns\n",
    "meds_bin = pd.DataFrame()\n",
    "\n",
    "# Iterate over the medications table grouping it by drug\n",
    "for i,data in meds.groupby(\"drug\"):\n",
    "    \n",
    "    # Create an empty array\n",
    "    drug = np.zeros(demo.id.shape, dtype=bool)\n",
    "    \n",
    "    # For each drug, get the patients that are taking it\n",
    "    # Change the value of the array to true only for the patients taking the drug\n",
    "    drug[data.id.unique()]=True\n",
    "    \n",
    "    # Add a column for the specific drug to the binarized meds dataframe\n",
    "    meds_bin[i]=drug\n",
    "\n",
    "meds_bin"
   ]
  },
  {
   "cell_type": "code",
   "execution_count": 5,
   "outputs": [],
   "source": [
    "# Binarize sex\n",
    "sex = pd.get_dummies(demo.gender)[\"Male\"]\n",
    "\n",
    "# Binarize race remove unknown\n",
    "race = pd.get_dummies(demo.race).drop(\"Unknown\", axis=1)\n"
   ],
   "metadata": {
    "collapsed": false,
    "pycharm": {
     "name": "#%%\n"
    }
   }
  },
  {
   "cell_type": "code",
   "execution_count": 15,
   "outputs": [
    {
     "name": "stdout",
     "output_type": "stream",
     "text": [
      "(270, 34)\n",
      "(30, 34)\n"
     ]
    }
   ],
   "source": [
    "# Let's first split the data into a training and a test set\n",
    "# To do so we split the stage progression and take 15 ids each\n",
    "# This way we have a 90:10 train-test split with a balanced test set\n",
    "\n",
    "# Merging all data together\n",
    "all_data = pd.concat([demo.age, sex, race, biomarkers_diff, meds_bin, stage.drop(\"id\", axis=1)], axis=1)\n",
    "\n",
    "# Separating progression trues and falses\n",
    "true = all_data[all_data.Stage_Progress]\n",
    "false = all_data[~all_data.Stage_Progress]\n",
    "\n",
    "# Specify the test size\n",
    "true_train, true_test = train_test_split(true, test_size=15, random_state=42)\n",
    "false_train, false_test = train_test_split(false, test_size=15, random_state=42)\n",
    "\n",
    "# Concatenate together true and false so we have only train, test\n",
    "train = pd.concat([true_train, false_train])#.sort_values(by=\"id\")\n",
    "test = pd.concat([true_test, false_test])#.sort_values(by=\"id\")\n",
    "\n",
    "print(train.shape)\n",
    "print(test.shape)\n",
    "\n",
    "# # Make a single df with training/testing info\n",
    "# train[\"is_train\"] = True\n",
    "# test[\"is_train\"] = False\n",
    "#\n",
    "# # Merge\n",
    "# split = pd.merge(train, test, how=\"outer\").sort_values(by=\"id\")\n",
    "# split = split.reset_index(drop=True)\n"
   ],
   "metadata": {
    "collapsed": false,
    "pycharm": {
     "name": "#%%\n"
    }
   }
  },
  {
   "cell_type": "code",
   "execution_count": 16,
   "metadata": {},
   "outputs": [
    {
     "name": "stdout",
     "output_type": "stream",
     "text": [
      "Data points in train test 270\n",
      "Data points in train test 30\n"
     ]
    }
   ],
   "source": [
    "# all_ = pd.concat([demo.drop([\"id\", \"race\", \"gender\"], axis=1), biomarkers_diff, meds_bin], axis=1)\n",
    "# all_train = all_[(split[\"is_train\"]==True).values]\n",
    "# all_test  = all_[(split[\"is_train\"]==False).values]\n",
    "\n",
    "print(f\"Data points in train test {train.shape[0]}\")\n",
    "print(f\"Data points in train test {test.shape[0]}\")\n"
   ]
  },
  {
   "cell_type": "code",
   "execution_count": 24,
   "outputs": [
    {
     "name": "stdout",
     "output_type": "stream",
     "text": [
      "Wall time: 3min 22s\n"
     ]
    },
    {
     "data": {
      "text/plain": "RandomForestClassifier(class_weight='balanced', n_estimators=100000,\n                       oob_score=True)"
     },
     "execution_count": 24,
     "metadata": {},
     "output_type": "execute_result"
    }
   ],
   "source": [
    "%%time\n",
    "# Train a random forest \n",
    "model = RandomForestClassifier(bootstrap=True, n_estimators=100000, oob_score=True, class_weight=\"balanced\")\n",
    "model.fit(train.drop(\"Stage_Progress\", axis=1), train[\"Stage_Progress\"].values.ravel())"
   ],
   "metadata": {
    "collapsed": false,
    "pycharm": {
     "name": "#%%\n"
    }
   }
  },
  {
   "cell_type": "code",
   "execution_count": 26,
   "outputs": [
    {
     "data": {
      "text/plain": "0.7925925925925926"
     },
     "execution_count": 26,
     "metadata": {},
     "output_type": "execute_result"
    }
   ],
   "source": [
    "model.oob_score_"
   ],
   "metadata": {
    "collapsed": false,
    "pycharm": {
     "name": "#%%\n"
    }
   }
  },
  {
   "cell_type": "code",
   "execution_count": 27,
   "metadata": {},
   "outputs": [
    {
     "data": {
      "text/plain": "0.7666666666666667"
     },
     "execution_count": 27,
     "metadata": {},
     "output_type": "execute_result"
    }
   ],
   "source": [
    "model.score(test.drop(\"Stage_Progress\", axis=1), test[\"Stage_Progress\"].values.ravel())"
   ]
  },
  {
   "cell_type": "code",
   "execution_count": 28,
   "metadata": {},
   "outputs": [],
   "source": [
    "predicted = model.predict(test.drop(\"Stage_Progress\", axis=1))"
   ]
  },
  {
   "cell_type": "code",
   "execution_count": 29,
   "metadata": {},
   "outputs": [
    {
     "data": {
      "text/plain": "<Figure size 576x576 with 2 Axes>",
      "image/png": "[encoded data removed]"
     },
     "metadata": {
      "needs_background": "light"
     },
     "output_type": "display_data"
    }
   ],
   "source": [
    "cm = confusion_matrix(test[\"Stage_Progress\"], predicted)\n",
    "plot_confusion_matrix(cm)\n",
    "plt.show()"
   ]
  },
  {
   "cell_type": "code",
   "execution_count": 30,
   "metadata": {
    "pycharm": {
     "name": "#%%\n"
    }
   },
   "outputs": [
    {
     "data": {
      "text/plain": "0.7666666666666667"
     },
     "execution_count": 30,
     "metadata": {},
     "output_type": "execute_result"
    }
   ],
   "source": [
    "accuracy_score(test[\"Stage_Progress\"], predicted)"
   ]
  },
  {
   "cell_type": "code",
   "execution_count": 31,
   "outputs": [
    {
     "data": {
      "text/plain": "<AxesSubplot:>"
     },
     "execution_count": 31,
     "metadata": {},
     "output_type": "execute_result"
    },
    {
     "data": {
      "text/plain": "<Figure size 432x288 with 1 Axes>",
      "image/png": "[encoded data removed]"
     },
     "metadata": {
      "needs_background": "light"
     },
     "output_type": "display_data"
    }
   ],
   "source": [
    "# Check feature importance\n",
    "sns.scatterplot(y=model.feature_importances_, x=range(len(model.feature_importances_)))"
   ],
   "metadata": {
    "collapsed": false,
    "pycharm": {
     "name": "#%%\n"
    }
   }
  },
  {
   "cell_type": "code",
   "execution_count": 14,
   "outputs": [],
   "source": [],
   "metadata": {
    "collapsed": false,
    "pycharm": {
     "name": "#%%\n"
    }
   }
  }
 ],
 "metadata": {
  "kernelspec": {
   "display_name": "Python 3 (ipykernel)",
   "language": "python",
   "name": "python3"
  },
  "language_info": {
   "codemirror_mode": {
    "name": "ipython",
    "version": 3
   },
   "file_extension": ".py",
   "mimetype": "text/x-python",
   "name": "python",
   "nbconvert_exporter": "python",
   "pygments_lexer": "ipython3",
   "version": "3.9.6"
  }
 },
 "nbformat": 4,
 "nbformat_minor": 4
}