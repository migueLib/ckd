{
 "cells": [
  {
   "cell_type": "code",
   "execution_count": 9,
   "metadata": {
    "tags": []
   },
   "outputs": [],
   "source": [
    "# Import built-in libraries\n",
    "import os\n",
    "from os.path import abspath\n",
    "\n",
    "# Import external libraries\n",
    "import sklearn\n",
    "import numpy as np\n",
    "import pandas as pd\n",
    "import matplotlib.pyplot as plt\n",
    "import seaborn as sns\n",
    "from sklearn.model_selection import train_test_split\n",
    "from sklearn.ensemble import RandomForestClassifier\n",
    "from sklearn.metrics import confusion_matrix\n",
    "\n",
    "# Import internal libraries\n",
    "from src.plot_confusion_matrix import plot_confusion_matrix"
   ]
  },
  {
   "cell_type": "code",
   "execution_count": 10,
   "metadata": {
    "collapsed": false,
    "jupyter": {
     "outputs_hidden": false
    },
    "pycharm": {
     "name": "#%%\n"
    }
   },
   "outputs": [],
   "source": [
    "# Load all data\n",
    "demo = pd.read_csv(abspath(\"../data/T_demo.csv\"))\n",
    "stage = pd.read_csv(abspath(\"../data/T_stage.csv\"))\n",
    "\n",
    "# Biomarkers\n",
    "cre = pd.read_csv(abspath(\"../data/T_creatinine.csv\"))\n",
    "dbp = pd.read_csv(abspath(\"../data/T_DBP.csv\"))\n",
    "sbp = pd.read_csv(abspath(\"../data/T_SBP.csv\"))\n",
    "hgb = pd.read_csv(abspath(\"../data/T_HGB.csv\"))\n",
    "glu = pd.read_csv(abspath(\"../data/T_glucose.csv\"))\n",
    "ldl = pd.read_csv(abspath(\"../data/T_ldl.csv\"))\n",
    "\n",
    "# Medication\n",
    "meds = pd.read_csv(abspath(\"../data/T_meds.csv\"))"
   ]
  },
  {
   "cell_type": "code",
   "execution_count": 11,
   "metadata": {
    "collapsed": false,
    "jupyter": {
     "outputs_hidden": false
    },
    "pycharm": {
     "name": "#%%\n"
    }
   },
   "outputs": [],
   "source": [
    "# Group values by patient id\n",
    "# Calculate the difference between the latest and first measurement for all biomarkers\n",
    "cre_s = pd.Series({i:(data.iloc[-1]-data.iloc[0]).value for i, data in cre.groupby(\"id\")}, name=\"cre\")\n",
    "dbp_s = pd.Series({i:(data.iloc[-1]-data.iloc[0]).value for i, data in dbp.groupby(\"id\")}, name=\"dbp\")\n",
    "sbp_s = pd.Series({i:(data.iloc[-1]-data.iloc[0]).value for i, data in sbp.groupby(\"id\")}, name=\"sbp\")\n",
    "hgb_s = pd.Series({i:(data.iloc[-1]-data.iloc[0]).value for i, data in hgb.groupby(\"id\")}, name=\"hgb\")\n",
    "glu_s = pd.Series({i:(data.iloc[-1]-data.iloc[0]).value for i, data in glu.groupby(\"id\")}, name=\"glu\")\n",
    "ldl_s = pd.Series({i:(data.iloc[-1]-data.iloc[0]).value for i, data in ldl.groupby(\"id\")}, name=\"ldl\")\n",
    "\n",
    "\n",
    "# Create a new data frame with the differences\n",
    "biomarkers_diff = pd.concat([demo, cre_s, dbp_s, sbp_s, hgb_s, glu_s, ldl_s], axis=1)"
   ]
  },
  {
   "cell_type": "code",
   "execution_count": 12,
   "metadata": {},
   "outputs": [
    {
     "data": {
      "text/plain": "     atenolol  atorvastatin  bisoprolol  canagliflozin  carvedilol  \\\n0       False          True       False          False       False   \n1       False          True       False          False       False   \n2       False         False       False          False       False   \n3       False          True       False          False       False   \n4       False         False       False          False       False   \n..        ...           ...         ...            ...         ...   \n295     False         False       False          False       False   \n296     False          True       False          False       False   \n297     False         False       False          False       False   \n298     False          True       False          False       False   \n299     False          True       False          False       False   \n\n     dapagliflozin  irbesartan  labetalol  losartan  lovastatin  ...  \\\n0            False       False      False      True       False  ...   \n1            False       False      False     False       False  ...   \n2            False       False      False     False       False  ...   \n3            False       False      False     False       False  ...   \n4            False       False      False      True       False  ...   \n..             ...         ...        ...       ...         ...  ...   \n295          False       False      False     False       False  ...   \n296          False       False      False     False       False  ...   \n297          False        True      False     False       False  ...   \n298          False       False      False     False       False  ...   \n299          False       False      False      True       False  ...   \n\n     metoprolol  nebivolol  olmesartan  pitavastatin  pravastatin  \\\n0         False      False       False         False        False   \n1         False      False       False         False        False   \n2         False      False       False         False        False   \n3         False      False       False         False        False   \n4         False      False       False         False         True   \n..          ...        ...         ...           ...          ...   \n295       False      False       False         False        False   \n296       False      False       False         False        False   \n297        True      False       False          True        False   \n298       False      False       False         False        False   \n299       False      False       False         False        False   \n\n     propranolol  rosuvastatin  simvastatin  telmisartan  valsartan  \n0          False         False        False        False      False  \n1          False         False        False        False      False  \n2          False          True        False        False      False  \n3          False         False        False        False      False  \n4          False         False        False        False      False  \n..           ...           ...          ...          ...        ...  \n295        False         False        False        False      False  \n296        False         False        False        False      False  \n297        False         False        False        False       True  \n298        False         False        False        False      False  \n299        False         False        False        False      False  \n\n[300 rows x 21 columns]",
      "text/html": "<div>\n<style scoped>\n    .dataframe tbody tr th:only-of-type {\n        vertical-align: middle;\n    }\n\n    .dataframe tbody tr th {\n        vertical-align: top;\n    }\n\n    .dataframe thead th {\n        text-align: right;\n    }\n</style>\n<table border=\"1\" class=\"dataframe\">\n  <thead>\n    <tr style=\"text-align: right;\">\n      <th></th>\n      <th>atenolol</th>\n      <th>atorvastatin</th>\n      <th>bisoprolol</th>\n      <th>canagliflozin</th>\n      <th>carvedilol</th>\n      <th>dapagliflozin</th>\n      <th>irbesartan</th>\n      <th>labetalol</th>\n      <th>losartan</th>\n      <th>lovastatin</th>\n      <th>...</th>\n      <th>metoprolol</th>\n      <th>nebivolol</th>\n      <th>olmesartan</th>\n      <th>pitavastatin</th>\n      <th>pravastatin</th>\n      <th>propranolol</th>\n      <th>rosuvastatin</th>\n      <th>simvastatin</th>\n      <th>telmisartan</th>\n      <th>valsartan</th>\n    </tr>\n  </thead>\n  <tbody>\n    <tr>\n      <th>0</th>\n      <td>False</td>\n      <td>True</td>\n      <td>False</td>\n      <td>False</td>\n      <td>False</td>\n      <td>False</td>\n      <td>False</td>\n      <td>False</td>\n      <td>True</td>\n      <td>False</td>\n      <td>...</td>\n      <td>False</td>\n      <td>False</td>\n      <td>False</td>\n      <td>False</td>\n      <td>False</td>\n      <td>False</td>\n      <td>False</td>\n      <td>False</td>\n      <td>False</td>\n      <td>False</td>\n    </tr>\n    <tr>\n      <th>1</th>\n      <td>False</td>\n      <td>True</td>\n      <td>False</td>\n      <td>False</td>\n      <td>False</td>\n      <td>False</td>\n      <td>False</td>\n      <td>False</td>\n      <td>False</td>\n      <td>False</td>\n      <td>...</td>\n      <td>False</td>\n      <td>False</td>\n      <td>False</td>\n      <td>False</td>\n      <td>False</td>\n      <td>False</td>\n      <td>False</td>\n      <td>False</td>\n      <td>False</td>\n      <td>False</td>\n    </tr>\n    <tr>\n      <th>2</th>\n      <td>False</td>\n      <td>False</td>\n      <td>False</td>\n      <td>False</td>\n      <td>False</td>\n      <td>False</td>\n      <td>False</td>\n      <td>False</td>\n      <td>False</td>\n      <td>False</td>\n      <td>...</td>\n      <td>False</td>\n      <td>False</td>\n      <td>False</td>\n      <td>False</td>\n      <td>False</td>\n      <td>False</td>\n      <td>True</td>\n      <td>False</td>\n      <td>False</td>\n      <td>False</td>\n    </tr>\n    <tr>\n      <th>3</th>\n      <td>False</td>\n      <td>True</td>\n      <td>False</td>\n      <td>False</td>\n      <td>False</td>\n      <td>False</td>\n      <td>False</td>\n      <td>False</td>\n      <td>False</td>\n      <td>False</td>\n      <td>...</td>\n      <td>False</td>\n      <td>False</td>\n      <td>False</td>\n      <td>False</td>\n      <td>False</td>\n      <td>False</td>\n      <td>False</td>\n      <td>False</td>\n      <td>False</td>\n      <td>False</td>\n    </tr>\n    <tr>\n      <th>4</th>\n      <td>False</td>\n      <td>False</td>\n      <td>False</td>\n      <td>False</td>\n      <td>False</td>\n      <td>False</td>\n      <td>False</td>\n      <td>False</td>\n      <td>True</td>\n      <td>False</td>\n      <td>...</td>\n      <td>False</td>\n      <td>False</td>\n      <td>False</td>\n      <td>False</td>\n      <td>True</td>\n      <td>False</td>\n      <td>False</td>\n      <td>False</td>\n      <td>False</td>\n      <td>False</td>\n    </tr>\n    <tr>\n      <th>...</th>\n      <td>...</td>\n      <td>...</td>\n      <td>...</td>\n      <td>...</td>\n      <td>...</td>\n      <td>...</td>\n      <td>...</td>\n      <td>...</td>\n      <td>...</td>\n      <td>...</td>\n      <td>...</td>\n      <td>...</td>\n      <td>...</td>\n      <td>...</td>\n      <td>...</td>\n      <td>...</td>\n      <td>...</td>\n      <td>...</td>\n      <td>...</td>\n      <td>...</td>\n      <td>...</td>\n    </tr>\n    <tr>\n      <th>295</th>\n      <td>False</td>\n      <td>False</td>\n      <td>False</td>\n      <td>False</td>\n      <td>False</td>\n      <td>False</td>\n      <td>False</td>\n      <td>False</td>\n      <td>False</td>\n      <td>False</td>\n      <td>...</td>\n      <td>False</td>\n      <td>False</td>\n      <td>False</td>\n      <td>False</td>\n      <td>False</td>\n      <td>False</td>\n      <td>False</td>\n      <td>False</td>\n      <td>False</td>\n      <td>False</td>\n    </tr>\n    <tr>\n      <th>296</th>\n      <td>False</td>\n      <td>True</td>\n      <td>False</td>\n      <td>False</td>\n      <td>False</td>\n      <td>False</td>\n      <td>False</td>\n      <td>False</td>\n      <td>False</td>\n      <td>False</td>\n      <td>...</td>\n      <td>False</td>\n      <td>False</td>\n      <td>False</td>\n      <td>False</td>\n      <td>False</td>\n      <td>False</td>\n      <td>False</td>\n      <td>False</td>\n      <td>False</td>\n      <td>False</td>\n    </tr>\n    <tr>\n      <th>297</th>\n      <td>False</td>\n      <td>False</td>\n      <td>False</td>\n      <td>False</td>\n      <td>False</td>\n      <td>False</td>\n      <td>True</td>\n      <td>False</td>\n      <td>False</td>\n      <td>False</td>\n      <td>...</td>\n      <td>True</td>\n      <td>False</td>\n      <td>False</td>\n      <td>True</td>\n      <td>False</td>\n      <td>False</td>\n      <td>False</td>\n      <td>False</td>\n      <td>False</td>\n      <td>True</td>\n    </tr>\n    <tr>\n      <th>298</th>\n      <td>False</td>\n      <td>True</td>\n      <td>False</td>\n      <td>False</td>\n      <td>False</td>\n      <td>False</td>\n      <td>False</td>\n      <td>False</td>\n      <td>False</td>\n      <td>False</td>\n      <td>...</td>\n      <td>False</td>\n      <td>False</td>\n      <td>False</td>\n      <td>False</td>\n      <td>False</td>\n      <td>False</td>\n      <td>False</td>\n      <td>False</td>\n      <td>False</td>\n      <td>False</td>\n    </tr>\n    <tr>\n      <th>299</th>\n      <td>False</td>\n      <td>True</td>\n      <td>False</td>\n      <td>False</td>\n      <td>False</td>\n      <td>False</td>\n      <td>False</td>\n      <td>False</td>\n      <td>True</td>\n      <td>False</td>\n      <td>...</td>\n      <td>False</td>\n      <td>False</td>\n      <td>False</td>\n      <td>False</td>\n      <td>False</td>\n      <td>False</td>\n      <td>False</td>\n      <td>False</td>\n      <td>False</td>\n      <td>False</td>\n    </tr>\n  </tbody>\n</table>\n<p>300 rows × 21 columns</p>\n</div>"
     },
     "execution_count": 12,
     "metadata": {},
     "output_type": "execute_result"
    }
   ],
   "source": [
    "# Binarize medication labels\n",
    "# First let's create a dataframe with drugs as columns\n",
    "meds_bin = pd.DataFrame()\n",
    "\n",
    "# Iterate over the medications table grouping it by drug\n",
    "for i,data in meds.groupby(\"drug\"):\n",
    "    \n",
    "    # Create an empty array\n",
    "    drug = np.zeros(demo.id.shape, dtype=bool)\n",
    "    \n",
    "    # For each drug, get the patients that are taking it\n",
    "    # Change the value of the array to true only for the patients takin the drug\n",
    "    drug[data.id.unique()]=True\n",
    "    \n",
    "    # Add a column for the specific drug to the binarized meds dataframe\n",
    "    meds_bin[i]=drug\n",
    "\n",
    "meds_bin"
   ]
  },
  {
   "cell_type": "code",
   "execution_count": 39,
   "metadata": {},
   "outputs": [],
   "source": [
    "# Now let's merge together the biomarkers_diff dataframe\n",
    "# and the meds_bin dataframe\n",
    "predictors = pd.concat([biomarkers_diff.drop([\"id\", \"race\", \"gender\"], axis=1),\n",
    "                        meds_bin, stage.drop(\"id\", axis=1)], axis=1)\n",
    "\n",
    "# Divide predictors for Stage_Progress\n",
    "predictors_false = predictors[predictors.Stage_Progress == False]\n",
    "predictors_true = predictors[predictors.Stage_Progress == True]"
   ]
  },
  {
   "cell_type": "code",
   "execution_count": 40,
   "metadata": {},
   "outputs": [],
   "source": [
    "# Get a balanced test set for Stage Progress\n",
    "false_train, false_test = train_test_split(predictors_false, test_size=15)\n",
    "true_train, true_test = train_test_split(predictors_true, test_size=15)\n",
    "\n",
    "# Concat test and train\n",
    "train = pd.concat([false_train, true_train])\n",
    "test = pd.concat([false_test, true_test])"
   ]
  },
  {
   "cell_type": "code",
   "execution_count": 41,
   "metadata": {},
   "outputs": [
    {
     "name": "stdout",
     "output_type": "stream",
     "text": [
      "CPU times: user 31.2 s, sys: 9.6 s, total: 40.8 s\n",
      "Wall time: 25.3 s\n"
     ]
    },
    {
     "data": {
      "text/plain": "RandomForestClassifier(n_estimators=10000, n_jobs=-1)"
     },
     "execution_count": 41,
     "metadata": {},
     "output_type": "execute_result"
    }
   ],
   "source": [
    "%%time\n",
    "# Train a random forest \n",
    "model = RandomForestClassifier(bootstrap=True, n_estimators=10000, n_jobs=-1)\n",
    "model.fit(train.drop(\"Stage_Progress\", axis=1), train.Stage_Progress.values.ravel())"
   ]
  },
  {
   "cell_type": "code",
   "execution_count": 42,
   "metadata": {},
   "outputs": [
    {
     "data": {
      "text/plain": "0.7333333333333333"
     },
     "execution_count": 42,
     "metadata": {},
     "output_type": "execute_result"
    }
   ],
   "source": [
    "model.score(test.drop(\"Stage_Progress\", axis=1), test.Stage_Progress)"
   ]
  },
  {
   "cell_type": "code",
   "execution_count": 43,
   "metadata": {},
   "outputs": [],
   "source": [
    "predicted = model.predict(test.drop(\"Stage_Progress\", axis=1))"
   ]
  },
  {
   "cell_type": "code",
   "execution_count": 44,
   "metadata": {},
   "outputs": [],
   "source": [
    "cm = confusion_matrix(test.Stage_Progress, predicted)"
   ]
  },
  {
   "cell_type": "code",
   "execution_count": 45,
   "metadata": {},
   "outputs": [
    {
     "data": {
      "text/plain": "<Figure size 800x800 with 2 Axes>",
      "image/png": "[encoded data removed]"
     },
     "metadata": {},
     "output_type": "display_data"
    }
   ],
   "source": [
    "plot_confusion_matrix(cm)\n",
    "plt.show()"
   ]
  },
  {
   "cell_type": "code",
   "execution_count": null,
   "metadata": {},
   "outputs": [],
   "source": []
  }
 ],
 "metadata": {
  "kernelspec": {
   "display_name": "Python 3 (ipykernel)",
   "language": "python",
   "name": "python3"
  },
  "language_info": {
   "codemirror_mode": {
    "name": "ipython",
    "version": 3
   },
   "file_extension": ".py",
   "mimetype": "text/x-python",
   "name": "python",
   "nbconvert_exporter": "python",
   "pygments_lexer": "ipython3",
   "version": "3.9.6"
  }
 },
 "nbformat": 4,
 "nbformat_minor": 4
}